{
 "cells": [
  {
   "cell_type": "code",
   "execution_count": 1,
   "id": "aeb51f7a-0d8f-4097-bfd0-a93f94debe7a",
   "metadata": {},
   "outputs": [],
   "source": [
    "import sys\n",
    "import numpy as np\n",
    "import pandas as pd\n",
    "import xarray as xr\n",
    "\n",
    "import warnings\n",
    "\n",
    "warnings.filterwarnings(\"ignore\")"
   ]
  },
  {
   "cell_type": "code",
   "execution_count": 2,
   "id": "bfb0e5e1-115a-45f4-92af-d7d72752737a",
   "metadata": {},
   "outputs": [],
   "source": [
    "# automatic code formatting\n",
    "%load_ext lab_black\n",
    "\n",
    "# recognize changes in imported files without restarting kernel\n",
    "%load_ext autoreload\n",
    "%autoreload 2\n",
    "\n",
    "# add s2stools to python path\n",
    "paths = [\"/project/meteo/work/Jonas.Spaeth/gitprojects/stos\"]\n",
    "for p in paths:\n",
    "    sys.path.append(p)\n",
    "# alternative:\n",
    "# %pip install s2stools"
   ]
  },
  {
   "cell_type": "markdown",
   "id": "6b75a006-7682-4f14-bdc5-e827b957ccc3",
   "metadata": {},
   "source": [
    "# Open Files"
   ]
  },
  {
   "cell_type": "code",
   "execution_count": 3,
   "id": "8ea4940b-30b0-418b-8b14-cc706585366e",
   "metadata": {},
   "outputs": [],
   "source": [
    "import s2stools.process"
   ]
  },
  {
   "cell_type": "code",
   "execution_count": 4,
   "id": "fad70b18-88ad-4208-bc72-02e2c2c5b81e",
   "metadata": {
    "tags": []
   },
   "outputs": [
    {
     "name": "stdout",
     "output_type": "stream",
     "text": [
      "u60...\n",
      "realtime path:  /project/meteo/work/Jonas.Spaeth/data/raw/s2s/ecmwf/u_10hpa_60/*2017*_cf.nc\n",
      "cf\t \n",
      "pf\t \n",
      "chc\t \n",
      "phc\t \n"
     ]
    }
   ],
   "source": [
    "# u60\n",
    "print(\"u60...\")\n",
    "ds = s2stools.process.open_files(\n",
    "    cf=\"_cf.nc\",\n",
    "    pf=\"_pf.nc\",\n",
    "    chc=\"_chc.nc\",\n",
    "    phc=\"_phc.nc\",\n",
    "    path_pattern=\"/project/meteo/work/Jonas.Spaeth/data/raw/s2s/ecmwf/u_10hpa_60/*2017*\",\n",
    ")\n",
    "ds = ds.mean([\"longitude\", \"latitude\"]).rename(u=\"u60_10hpa\")"
   ]
  },
  {
   "cell_type": "markdown",
   "id": "4522c604-b742-4f0b-8f9e-fcf1b72a117c",
   "metadata": {},
   "source": [
    "# Plot average ensemble standard deviation"
   ]
  },
  {
   "cell_type": "code",
   "execution_count": 5,
   "id": "9071b56f-9eae-4b3d-b0b3-76e020cbf3c6",
   "metadata": {},
   "outputs": [],
   "source": [
    "u60_ensstd = ds.u60_10hpa.std(\"number\")"
   ]
  },
  {
   "cell_type": "markdown",
   "id": "0e4a50c8-d9b7-4983-805d-b3b1640c1658",
   "metadata": {},
   "source": [
    "dimensions:\n",
    "```python\n",
    "ds.u60_10hpa  # reftime, hc_year, number, leadtime\n",
    "u60_ensstd  # reftime, hc_year, leadtime\n",
    "u60_ensstd_stacked  # fc, leadtime\n",
    "u60_ensstd_stacked.mean(\"fc\")  # leadtime\n",
    "```"
   ]
  },
  {
   "cell_type": "code",
   "execution_count": 6,
   "id": "358ea06d-c660-4b4c-9d3e-eb1a3db0ce1d",
   "metadata": {},
   "outputs": [],
   "source": [
    "u60_ensstd_stacked = s2stools.process.stack_ensfc(u60_ensstd)"
   ]
  },
  {
   "cell_type": "code",
   "execution_count": 7,
   "id": "fd76adec-edac-4b88-a827-66068bfa47c7",
   "metadata": {},
   "outputs": [
    {
     "data": {
      "image/png": "[encoded data removed]",
      "text/plain": [
       "<Figure size 432x288 with 1 Axes>"
      ]
     },
     "metadata": {
      "needs_background": "light"
     },
     "output_type": "display_data"
    }
   ],
   "source": [
    "import s2stools.plot\n",
    "import matplotlib.pyplot as plt\n",
    "\n",
    "u60_ensstd_stacked.mean(\"fc\").plot()\n",
    "\n",
    "ax = plt.gca()\n",
    "s2stools.plot.xaxis_unit_days(ax, multiple=7)\n",
    "ax.set_title(\"average ens std\")\n",
    "plt.show()"
   ]
  },
  {
   "cell_type": "markdown",
   "id": "4b8c47ca-64b0-41d9-a618-27bab1ccd4ed",
   "metadata": {},
   "source": [
    "# Events"
   ]
  },
  {
   "cell_type": "code",
   "execution_count": 8,
   "id": "6b061416-f248-4fe8-a38e-62781c950022",
   "metadata": {},
   "outputs": [],
   "source": [
    "ds_short = ds.isel(reftime=[0, 1], number=[0, 1], hc_year=range(5))"
   ]
  },
  {
   "cell_type": "code",
   "execution_count": 9,
   "id": "20911a25-3926-46b6-8cae-2f939d8c4980",
   "metadata": {},
   "outputs": [
    {
     "name": "stdout",
     "output_type": "stream",
     "text": [
      "number of:\n",
      "\t all forecast combinations:  20\n",
      "\t valid forecast combinations:  20\n",
      "\t forecasts start start with 10 days westwind:  20\n"
     ]
    },
    {
     "name": "stderr",
     "output_type": "stream",
     "text": [
      "Scanning Forecasts for Events: 100%|██████████| 20/20 [00:02<00:00,  7.70it/s]\n"
     ]
    },
    {
     "data": {
      "text/plain": [
       "[{'fc': {'reftime': '2017-11-16', 'hc_year': -20, 'number': 0},\n",
       "  'leadtime': 'P37DT0H0M0S'},\n",
       " {'fc': {'reftime': '2017-11-16', 'hc_year': -18, 'number': 1},\n",
       "  'leadtime': 'P31DT0H0M0S'},\n",
       " {'fc': {'reftime': '2017-11-16', 'hc_year': -17, 'number': 0},\n",
       "  'leadtime': 'P37DT0H0M0S'},\n",
       " {'fc': {'reftime': '2017-11-20', 'hc_year': -20, 'number': 0},\n",
       "  'leadtime': 'P43DT0H0M0S'},\n",
       " {'fc': {'reftime': '2017-11-20', 'hc_year': -20, 'number': 1},\n",
       "  'leadtime': 'P41DT0H0M0S'},\n",
       " {'fc': {'reftime': '2017-11-20', 'hc_year': -17, 'number': 1},\n",
       "  'leadtime': 'P41DT0H0M0S'}]"
      ]
     },
     "execution_count": 9,
     "metadata": {},
     "output_type": "execute_result"
    }
   ],
   "source": [
    "# find ssw\n",
    "event_list = s2stools.events.find_ssw(\n",
    "    ds_short, buffer_start=0, buffer_end=0, require_westwind_start=1\n",
    ")\n",
    "event_list"
   ]
  },
  {
   "cell_type": "code",
   "execution_count": 10,
   "id": "e17a2bca-e61a-4a4f-aee0-c6dc1f5c81b7",
   "metadata": {},
   "outputs": [
    {
     "name": "stderr",
     "output_type": "stream",
     "text": [
      "Opening Events: 100%|██████████| 6/6 [00:00<00:00, 153.08it/s]\n"
     ]
    },
    {
     "data": {
      "text/plain": [
       "<s2stools.events.EventComposite.EventComposite at 0x7f2c802c8700>"
      ]
     },
     "execution_count": 10,
     "metadata": {},
     "output_type": "execute_result"
    }
   ],
   "source": [
    "# create EventComposite\n",
    "ec = s2stools.events.EventComposite(\n",
    "    data=ds_short, event_jsons_path=event_list, descr=\"SSW\", model=\"ecmwf\"\n",
    ")\n",
    "ec"
   ]
  },
  {
   "cell_type": "code",
   "execution_count": 11,
   "id": "2f831195-4a74-4cc8-a189-2eb42b384771",
   "metadata": {},
   "outputs": [
    {
     "data": {
      "text/plain": [
       "[{'fc': {'reftime': '2017-11-16', 'hc_year': -20, 'number': 0},\n",
       "  'leadtime': 'P37DT0H0M0S'},\n",
       " {'fc': {'reftime': '2017-11-16', 'hc_year': -18, 'number': 1},\n",
       "  'leadtime': 'P31DT0H0M0S'},\n",
       " {'fc': {'reftime': '2017-11-16', 'hc_year': -17, 'number': 0},\n",
       "  'leadtime': 'P37DT0H0M0S'},\n",
       " {'fc': {'reftime': '2017-11-20', 'hc_year': -20, 'number': 0},\n",
       "  'leadtime': 'P43DT0H0M0S'},\n",
       " {'fc': {'reftime': '2017-11-20', 'hc_year': -20, 'number': 1},\n",
       "  'leadtime': 'P41DT0H0M0S'},\n",
       " {'fc': {'reftime': '2017-11-20', 'hc_year': -17, 'number': 1},\n",
       "  'leadtime': 'P41DT0H0M0S'}]"
      ]
     },
     "execution_count": 11,
     "metadata": {},
     "output_type": "execute_result"
    },
    {
     "data": {
      "image/png": "[encoded data removed]",
      "text/plain": [
       "<Figure size 432x288 with 1 Axes>"
      ]
     },
     "metadata": {
      "needs_background": "light"
     },
     "output_type": "display_data"
    }
   ],
   "source": [
    "ec.comp.min(\"i\").u60_10hpa.plot()\n",
    "ec.event_list_json"
   ]
  },
  {
   "cell_type": "code",
   "execution_count": null,
   "id": "a5239eb4-1634-4530-b7d3-ba3b48782c3e",
   "metadata": {},
   "outputs": [],
   "source": []
  }
 ],
 "metadata": {
  "kernelspec": {
   "display_name": "venvjonas",
   "language": "python",
   "name": "venvjonas"
  },
  "language_info": {
   "codemirror_mode": {
    "name": "ipython",
    "version": 3
   },
   "file_extension": ".py",
   "mimetype": "text/x-python",
   "name": "python",
   "nbconvert_exporter": "python",
   "pygments_lexer": "ipython3",
   "version": "3.9.5"
  }
 },
 "nbformat": 4,
 "nbformat_minor": 5
}
