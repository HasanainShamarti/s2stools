{
 "cells": [
  {
   "cell_type": "code",
   "execution_count": 1,
   "id": "aeb51f7a-0d8f-4097-bfd0-a93f94debe7a",
   "metadata": {},
   "outputs": [],
   "source": [
    "import sys\n",
    "import numpy as np\n",
    "import pandas as pd\n",
    "import xarray as xr\n",
    "#import warnings\n",
    "#warnings.filterwarnings('ignore')"
   ]
  },
  {
   "cell_type": "code",
   "execution_count": 2,
   "id": "bfb0e5e1-115a-45f4-92af-d7d72752737a",
   "metadata": {},
   "outputs": [],
   "source": [
    "# automatic code formatting\n",
    "%load_ext lab_black\n",
    "\n",
    "# recognize changes in imported files without restarting kernel\n",
    "%load_ext autoreload\n",
    "%autoreload 2\n",
    "\n",
    "# add s2stools to python path\n",
    "paths = [\"/project/meteo/work/Jonas.Spaeth/gitprojects/stos\"]\n",
    "for p in paths:\n",
    "    sys.path.append(p)\n",
    "# alternative:\n",
    "# %pip install s2stools"
   ]
  },
  {
   "cell_type": "markdown",
   "id": "6b75a006-7682-4f14-bdc5-e827b957ccc3",
   "metadata": {},
   "source": [
    "# Open Files"
   ]
  },
  {
   "cell_type": "code",
   "execution_count": 4,
   "id": "8ea4940b-30b0-418b-8b14-cc706585366e",
   "metadata": {},
   "outputs": [],
   "source": [
    "import s2stools.process"
   ]
  },
  {
   "cell_type": "code",
   "execution_count": 5,
   "id": "fad70b18-88ad-4208-bc72-02e2c2c5b81e",
   "metadata": {
    "tags": []
   },
   "outputs": [
    {
     "name": "stdout",
     "output_type": "stream",
     "text": [
      "u60...\n",
      "realtime path:  /project/meteo/work/Jonas.Spaeth/data/raw/s2s/ecmwf/u_10hpa_60/*2017*_cf.nc\n",
      "cf\t \n",
      "pf\t \n",
      "chc\t \n",
      "phc\t \n"
     ]
    },
    {
     "name": "stderr",
     "output_type": "stream",
     "text": [
      "/project/meteo/work/Jonas.Spaeth/venvjonas/lib/python3.9/site-packages/dask/array/core.py:4360: PerformanceWarning: Increasing number of chunks by factor of 20\n",
      "  result = blockwise(\n"
     ]
    }
   ],
   "source": [
    "# u60\n",
    "print(\"u60...\")\n",
    "ds = s2stools.process.open_files(\n",
    "    cf=\"_cf.nc\",\n",
    "    pf=\"_pf.nc\",\n",
    "    chc=\"_chc.nc\",\n",
    "    phc=\"_phc.nc\",\n",
    "    path_pattern=\"/project/meteo/work/Jonas.Spaeth/data/raw/s2s/ecmwf/u_10hpa_60/*2017*\",\n",
    ")\n",
    "ds = ds.mean([\"longitude\", \"latitude\"]).rename(u=\"u60_10hpa\")"
   ]
  },
  {
   "cell_type": "markdown",
   "id": "4522c604-b742-4f0b-8f9e-fcf1b72a117c",
   "metadata": {},
   "source": [
    "# Plot average ensemble standard deviation"
   ]
  },
  {
   "cell_type": "code",
   "execution_count": 6,
   "id": "9071b56f-9eae-4b3d-b0b3-76e020cbf3c6",
   "metadata": {},
   "outputs": [],
   "source": [
    "import s2stools.plot\n",
    "import matplotlib.pyplot as plt\n",
    "\n",
    "\n",
    "u60_ensstd = ds.u60_10hpa.std(\"number\")"
   ]
  },
  {
   "cell_type": "markdown",
   "id": "0e4a50c8-d9b7-4983-805d-b3b1640c1658",
   "metadata": {},
   "source": [
    "dimensions:\n",
    "```python\n",
    "ds.u60_10hpa  # reftime, hc_year, number, leadtime\n",
    "u60_ensstd  # reftime, hc_year, leadtime\n",
    "u60_ensstd_stacked  # fc, leadtime\n",
    "u60_ensstd_stacked.mean(\"fc\")  # leadtime\n",
    "```"
   ]
  },
  {
   "cell_type": "code",
   "execution_count": 8,
   "id": "358ea06d-c660-4b4c-9d3e-eb1a3db0ce1d",
   "metadata": {},
   "outputs": [],
   "source": [
    "u60_ensstd_stacked = s2stools.process.stack_ensfc(u60_ensstd)"
   ]
  },
  {
   "cell_type": "code",
   "execution_count": 10,
   "id": "fd76adec-edac-4b88-a827-66068bfa47c7",
   "metadata": {},
   "outputs": [
    {
     "name": "stderr",
     "output_type": "stream",
     "text": [
      "/project/meteo/work/Jonas.Spaeth/venvjonas/lib/python3.9/site-packages/dask/array/numpy_compat.py:41: RuntimeWarning: invalid value encountered in true_divide\n",
      "  x = np.divide(x1, x2, out)\n"
     ]
    },
    {
     "data": {
      "image/png": "[encoded data removed]",
      "text/plain": [
       "<Figure size 432x288 with 1 Axes>"
      ]
     },
     "metadata": {
      "needs_background": "light"
     },
     "output_type": "display_data"
    }
   ],
   "source": [
    "u60_ensstd_stacked.mean(\"fc\").plot()\n",
    "\n",
    "# ax = plt.gca()\n",
    "# s2stools.plot.xaxis_unit_days(ax, multiple=7)\n",
    "# ax.set_title(\"average ens std\")\n",
    "# plt.show()"
   ]
  },
  {
   "cell_type": "code",
   "execution_count": null,
   "id": "dade747c-8618-4710-9578-eed64e55d00b",
   "metadata": {},
   "outputs": [],
   "source": []
  }
 ],
 "metadata": {
  "kernelspec": {
   "display_name": "venvjonas",
   "language": "python",
   "name": "venvjonas"
  },
  "language_info": {
   "codemirror_mode": {
    "name": "ipython",
    "version": 3
   },
   "file_extension": ".py",
   "mimetype": "text/x-python",
   "name": "python",
   "nbconvert_exporter": "python",
   "pygments_lexer": "ipython3",
   "version": "3.9.5"
  }
 },
 "nbformat": 4,
 "nbformat_minor": 5
}
